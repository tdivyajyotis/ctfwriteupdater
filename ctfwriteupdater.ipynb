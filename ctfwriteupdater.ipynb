{
  "nbformat": 4,
  "nbformat_minor": 0,
  "metadata": {
    "colab": {
      "name": "ctfwriteupdater.ipynb",
      "provenance": [],
      "collapsed_sections": [],
      "include_colab_link": true
    },
    "kernelspec": {
      "name": "python3",
      "display_name": "Python 3"
    },
    "language_info": {
      "name": "python"
    }
  },
  "cells": [
    {
      "cell_type": "markdown",
      "metadata": {
        "id": "view-in-github",
        "colab_type": "text"
      },
      "source": [
        "<a href=\"https://colab.research.google.com/github/tdivyajyotis/ctfwriteupdater/blob/main/ctfwriteupdater.ipynb\" target=\"_parent\"><img src=\"https://colab.research.google.com/assets/colab-badge.svg\" alt=\"Open In Colab\"/></a>"
      ]
    },
    {
      "cell_type": "code",
      "execution_count": 34,
      "metadata": {
        "colab": {
          "base_uri": "https://localhost:8080/"
        },
        "id": "N2guROqRTKyU",
        "outputId": "d2ab8181-89e2-47e4-db1a-7dadb3a83bb4"
      },
      "outputs": [
        {
          "output_type": "stream",
          "name": "stdout",
          "text": [
            "CTFWriteUPdater alpha by Team_Dd05\n",
            "Release of 26 March 2022\n",
            "THIS IS ALPHA SOFTWARE FOR INTERNAL TESTING IN WEB DEVELOPMENT TEAM\n",
            "NOT TO BE USED OUTSIDE OF A VIRTUALIZED ENVIRONMENT\n",
            "INTERNET FIREWALL ACCESS NEEDED\n"
          ]
        }
      ],
      "source": [
        "print(\"CTFWriteUPdater alpha by Team_Dd05\")\n",
        "print(\"Release of 26 March 2022\")\n",
        "print(\"THIS IS ALPHA SOFTWARE FOR INTERNAL TESTING IN WEB DEVELOPMENT TEAM\")\n",
        "print(\"NOT TO BE USED OUTSIDE OF A VIRTUALIZED ENVIRONMENT\")\n",
        "print(\"INTERNET FIREWALL ACCESS NEEDED\")"
      ]
    },
    {
      "cell_type": "code",
      "source": [
        "from datetime import datetime\n",
        "timedate = datetime.now()\n",
        "print(timedate)"
      ],
      "metadata": {
        "colab": {
          "base_uri": "https://localhost:8080/"
        },
        "id": "hQvOj-7cVxRg",
        "outputId": "03608ac4-1176-4afa-9e02-7ddfbac83423"
      },
      "execution_count": 35,
      "outputs": [
        {
          "output_type": "stream",
          "name": "stdout",
          "text": [
            "2022-03-25 20:04:17.020582\n"
          ]
        }
      ]
    },
    {
      "cell_type": "code",
      "source": [
        "import requests as r\n",
        "import json\n",
        "commandserver = \"http://tdivyajyotis.github.io/c2/alpha.json\"\n",
        "response = r.get(commandserver)\n",
        "run = response.json()[\"run\"]\n",
        "\n",
        "import sys\n",
        "if run == True:\n",
        "  pass\n",
        "else:\n",
        "  pass\n",
        "  print(\"GET NEW VERSION OF SCRIPT AT https://tdivyajyotis.github.io/ctfwriteupdater !\")\n",
        "  print(\"DEPRECATED CODE EXITED\")\n",
        "  sys.exit()\n"
      ],
      "metadata": {
        "id": "pD0SNEFqXtyp"
      },
      "execution_count": 36,
      "outputs": []
    },
    {
      "cell_type": "code",
      "source": [
        ""
      ],
      "metadata": {
        "id": "Qk202W5ncg8r"
      },
      "execution_count": 36,
      "outputs": []
    }
  ]
}