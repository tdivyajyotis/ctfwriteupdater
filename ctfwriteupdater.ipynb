{
  "cells": [
    {
      "cell_type": "markdown",
      "metadata": {
        "colab_type": "text",
        "id": "view-in-github"
      },
      "source": [
        "<a href=\"https://colab.research.google.com/github/tdivyajyotis/ctfwriteupdater/blob/main/ctfwriteupdater.ipynb\" target=\"_parent\"><img src=\"https://colab.research.google.com/assets/colab-badge.svg\" alt=\"Open In Colab\"/></a>"
      ]
    },
    {
      "cell_type": "code",
      "execution_count": 6,
      "metadata": {
        "colab": {
          "base_uri": "https://localhost:8080/"
        },
        "id": "N2guROqRTKyU",
        "outputId": "d2ab8181-89e2-47e4-db1a-7dadb3a83bb4"
      },
      "outputs": [
        {
          "name": "stdout",
          "output_type": "stream",
          "text": [
            "\n",
            "CTFWriteUPdater alpha by Team_Dd05\n",
            "Released on 26 March 2022\n",
            "THIS IS ALPHA SOFTWARE FOR INTERNAL TESTING IN WEB DEVELOPMENT TEAM\n",
            "NOT TO BE USED OUTSIDE OF A VIRTUALIZED ENVIRONMENT\n",
            "INTERNET ACCESS NEEDED\n",
            "\n"
          ]
        }
      ],
      "source": [
        "print('''\n",
        "CTFWriteUPdater alpha by Team_Dd05\n",
        "Released on 26 March 2022\n",
        "THIS IS ALPHA SOFTWARE FOR INTERNAL TESTING IN WEB DEVELOPMENT TEAM\n",
        "NOT TO BE USED OUTSIDE OF A VIRTUALIZED ENVIRONMENT\n",
        "INTERNET ACCESS NEEDED\n",
        "''')"
      ]
    },
    {
      "cell_type": "code",
      "execution_count": 7,
      "metadata": {
        "colab": {
          "base_uri": "https://localhost:8080/"
        },
        "id": "hQvOj-7cVxRg",
        "outputId": "03608ac4-1176-4afa-9e02-7ddfbac83423"
      },
      "outputs": [
        {
          "name": "stdout",
          "output_type": "stream",
          "text": [
            "2022-03-26 03:03:55.127557\n"
          ]
        }
      ],
      "source": [
        "from datetime import datetime\n",
        "timedate = datetime.now()\n",
        "print(timedate)"
      ]
    },
    {
      "cell_type": "code",
      "execution_count": 12,
      "metadata": {
        "id": "pD0SNEFqXtyp"
      },
      "outputs": [],
      "source": [
        "import requests as r\n",
        "commandserver = \"http://tdivyajyotis.github.io/c2/alpha.json\"\n",
        "response = r.get(commandserver)\n",
        "run = response.json()[\"run\"]\n",
        "\n",
        "import sys\n",
        "if run == True:\n",
        "  pass\n",
        "else:\n",
        "  pass\n",
        "  sys.exit('''GET NEW VERSION OF SCRIPT AT https://tdivyajyotis.github.io/ctfwriteupdater !\n",
        "  DEPRECATED CODE EXITED''')\n"
      ]
    }
  ],
  "metadata": {
    "colab": {
      "collapsed_sections": [],
      "include_colab_link": true,
      "name": "ctfwriteupdater.ipynb",
      "provenance": []
    },
    "kernelspec": {
      "display_name": "Python 3",
      "name": "python3"
    },
    "language_info": {
      "codemirror_mode": {
        "name": "ipython",
        "version": 3
      },
      "file_extension": ".py",
      "mimetype": "text/x-python",
      "name": "python",
      "nbconvert_exporter": "python",
      "pygments_lexer": "ipython3",
      "version": "3.9.7"
    }
  },
  "nbformat": 4,
  "nbformat_minor": 0
}
